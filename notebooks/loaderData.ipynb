{
 "cells": [
  {
   "cell_type": "markdown",
   "metadata": {},
   "source": [
    "### THIS NOTEBOOK LOADS DATA FROM FOLDERS, TRANSFORMS THEM TO .CSV FILES AND SAVES THEM IN THE 01_RAW DATA FOLDER"
   ]
  },
  {
   "cell_type": "code",
   "execution_count": null,
   "metadata": {},
   "outputs": [],
   "source": [
    "# load json files in folders recursively\n",
    "\n",
    "import glob\n",
    "import json\n",
    "import pandas as pd\n",
    "\n",
    "# Get list of all JSON files recursively in data/s1 folder \n",
    "json_files = glob.glob('data\\\\s2\\\\**\\\\*.json', recursive=True)\n",
    "\n",
    "# Load data from JSON files and concatenate them into a single DataFrame\n",
    "def load_data():\n",
    "  for file in json_files:\n",
    "    with open(file, encoding=\"utf8\") as f:  \n",
    "      data = json.load(f)\n",
    "      # Get subfolder name from file path\n",
    "    subfolder = file.split('\\\\')[2]\n",
    "    df = pd.json_normalize(data)\n",
    "    # Add subfolder column\n",
    "    df['estado'] = subfolder\n",
    "    yield df\n",
    "\n",
    "df = pd.concat(load_data(), ignore_index=True) \n"
   ]
  },
  {
   "cell_type": "code",
   "execution_count": null,
   "metadata": {},
   "outputs": [],
   "source": [
    "df.shape"
   ]
  },
  {
   "cell_type": "code",
   "execution_count": null,
   "metadata": {},
   "outputs": [],
   "source": [
    "df.to_csv(\"../data/01_raw/s1.csv\", index=False)"
   ]
  },
  {
   "cell_type": "markdown",
   "metadata": {},
   "source": [
    "For system 6, a modification to the function is necessary to obtain the name or status of the entity producing the information. It doesn't need to be recursive either. \n",
    "\n",
    "This script on a personal computer will probably take 100-120 minutes."
   ]
  },
  {
   "cell_type": "code",
   "execution_count": 1,
   "metadata": {},
   "outputs": [
    {
     "name": "stdout",
     "output_type": "stream",
     "text": [
      "ags_releases\n"
     ]
    }
   ],
   "source": [
    "#load json files in single folder\n",
    "\n",
    "import glob\n",
    "import json\n",
    "import pandas as pd\n",
    " \n",
    "json_files = glob.glob('E:\\\\Documents\\\\ado\\\\data_dataton\\\\s6\\\\s6\\\\*.json', recursive=True)\n",
    "\n",
    "# Load data from JSON files and concatenate them into a single DataFrame\n",
    "def load_data():\n",
    "  for file in json_files:\n",
    "    with open(file, encoding=\"utf8\") as f:  \n",
    "      data = json.load(f)\n",
    "      # Get subfolder name from file path\n",
    "    filename = file.split('\\\\')[-1]\n",
    "    estate = filename.split('.')[0]\n",
    "    print(estate)\n",
    "    df = pd.json_normalize(data)\n",
    "    # Add subfolder column\n",
    "    df['estado'] = estate\n",
    "    yield df\n",
    "\n",
    "df = pd.concat(load_data(), ignore_index=True) "
   ]
  },
  {
   "cell_type": "code",
   "execution_count": null,
   "metadata": {},
   "outputs": [],
   "source": [
    "df.to_csv(\"../data/01_raw/s6.csv\", index=False)"
   ]
  }
 ],
 "metadata": {
  "kernelspec": {
   "display_name": "Python 3",
   "language": "python",
   "name": "python3"
  },
  "language_info": {
   "codemirror_mode": {
    "name": "ipython",
    "version": 3
   },
   "file_extension": ".py",
   "mimetype": "text/x-python",
   "name": "python",
   "nbconvert_exporter": "python",
   "pygments_lexer": "ipython3",
   "version": "3.11.4"
  }
 },
 "nbformat": 4,
 "nbformat_minor": 2
}
